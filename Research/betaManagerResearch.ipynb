{
 "cells": [
  {
   "cell_type": "code",
   "execution_count": 1,
   "metadata": {},
   "outputs": [],
   "source": [
    "import numpy as np\n",
    "import pandas as pd\n",
    "from datetime import datetime, timedelta\n",
    "import pandas_datareader as pdr\n",
    "from scipy.optimize import minimize\n",
    "import json"
   ]
  },
  {
   "cell_type": "code",
   "execution_count": 2,
   "metadata": {},
   "outputs": [],
   "source": [
    "argv = [\"function_name\", \"MSFT AAPL GOOG AMZN XOM HSBC BRK-B JPM BAC WFC \", \"200\", \"100000\"]"
   ]
  },
  {
   "cell_type": "code",
   "execution_count": 3,
   "metadata": {},
   "outputs": [
    {
     "name": "stdout",
     "output_type": "stream",
     "text": [
      "{\"AAPL\": 0.14416191899165584, \"AMZN\": 0.09790331334192418, \"BAC\": 0.128711446215379, \"BRK-B\": 0.04599170279928909, \"GOOG\": 0.16114817200631926, \"HSBC\": 0.056094165578631415, \"JPM\": 0.09298832371857388, \"MSFT\": 0.09669161005264852, \"WFC\": 0.10270262647663952, \"XOM\": 0.07360672081893938}\n",
      "Wall time: 5.83 s\n"
     ]
    }
   ],
   "source": [
    "%%time\n",
    "'''\n",
    "Based on : https://stackoverflow.com/questions/23450534/how-to-call-a-python-function-from-node-js\n",
    "argv[1] : String of valid stock tickers in the portfolio\n",
    "argv[2] : Duration window (in days) for stock variance calculations\n",
    "argv[3] : Portfolio Capital (in cents)\n",
    "'''\n",
    "stocks = argv[1].split()\n",
    "window = int(argv[2])\n",
    "initial_capital = int(argv[3])\n",
    "\n",
    "# Get data\n",
    "end_date = datetime.today()\n",
    "start_date = end_date - timedelta(window+2)\n",
    "# stocks = ['MSFT','AAPL','GOOG','AMZN','XOM','HSBC','BRK-B','JPM','BAC','WFC']\n",
    "stock_data = pdr.get_data_yahoo(symbols=stocks, start=start_date, end=end_date)\n",
    "stock_data = stock_data.dropna()\n",
    "\n",
    "# Calculate returns\n",
    "for ticker in stock_data.columns.levels[1]:\n",
    "    stock_data['Return', ticker] = stock_data['Adj Close', ticker].pct_change(1)\n",
    "    \n",
    "stock_data = stock_data.dropna()\n",
    "\n",
    "tickers = []\n",
    "invVar = []\n",
    "\n",
    "# Calculate Inverse Variance\n",
    "for ticker in stock_data.columns.levels[1]:\n",
    "    tickers.append(ticker)\n",
    "    invVar.append(stock_data['Return', ticker].var())\n",
    "\n",
    "weights = invVar/sum(invVar)\n",
    "\n",
    "portfolio_weights = dict()\n",
    "\n",
    "for index, ticker in enumerate(tickers):\n",
    "    portfolio_weights[ticker] = weights[index]\n",
    "    \n",
    "print(json.dumps(portfolio_weights))"
   ]
  },
  {
   "cell_type": "code",
   "execution_count": 7,
   "metadata": {},
   "outputs": [
    {
     "name": "stdout",
     "output_type": "stream",
     "text": [
      "{\"AAPL\": 0.037817546145716516, \"AMZN\": 0.1026458677092782, \"BAC\": 0.03780294074128574, \"BRK-B\": 0.32528783074871764, \"GOOG\": 0.03783401748016401, \"HSBC\": 0.16940361614031776, \"JPM\": 0.037820095155821735, \"MSFT\": 0.0378346746714858, \"WFC\": 0.037830481796318725, \"XOM\": 0.17572292941089399}\n",
      "Wall time: 5.26 s\n"
     ]
    }
   ],
   "source": [
    "%%time\n",
    "'''\n",
    "Based on : https://stackoverflow.com/questions/23450534/how-to-call-a-python-function-from-node-js\n",
    "argv[1] : String of valid stock tickers in the portfolio\n",
    "argv[2] : Duration window (in days) for stock variance calculations\n",
    "argv[3] : Portfolio Capital (in cents)\n",
    "'''\n",
    "stocks = argv[1].split()\n",
    "window = int(argv[2])\n",
    "initial_capital = int(argv[3])\n",
    "\n",
    "# Get data\n",
    "end_date = datetime.today()\n",
    "start_date = end_date - timedelta(window+2)\n",
    "# stocks = ['MSFT','AAPL','GOOG','AMZN','XOM','HSBC','BRK-B','JPM','BAC','WFC']\n",
    "stock_data = pdr.get_data_yahoo(symbols=stocks, start=start_date, end=end_date)\n",
    "stock_data = stock_data.dropna()\n",
    "\n",
    "# Calculate returns\n",
    "for ticker in stock_data.columns.levels[1]:\n",
    "    stock_data['Return', ticker] = stock_data['Adj Close', ticker].pct_change(1)\n",
    "    \n",
    "stock_data = stock_data.dropna()\n",
    "# print(stock_data)\n",
    "cov = stock_data.Return.cov()\n",
    "# print(covariance)\n",
    "tickers = list(cov.columns.values)\n",
    "\n",
    "\n",
    "# Optimization\n",
    "def cost(w):\n",
    "    global cov\n",
    "    portfolio_variance = np.dot(np.dot(w.T, cov), w)\n",
    "    return portfolio_variance\n",
    " \n",
    "bnds = [(0.0001, 0.9999)]*len(cov)\n",
    "cons = ({'type': 'eq', 'fun': lambda w: 1.0 - sum(w)})\n",
    "w0 = np.random.randn(len(cov))/len(cov)\n",
    "\n",
    "result = minimize(cost, w0, method='SLSQP', bounds=bnds, constraints=cons, tol=1e-6)\n",
    "# print(result.message)\n",
    "\n",
    "portfolio_weights = dict()\n",
    "\n",
    "if result.success:\n",
    "    weights = result.x\n",
    "    for index, ticker in enumerate(tickers):\n",
    "        portfolio_weights[ticker] = weights[index]\n",
    "\n",
    "    \n",
    "print(json.dumps(portfolio_weights))"
   ]
  },
  {
   "cell_type": "code",
   "execution_count": null,
   "metadata": {},
   "outputs": [],
   "source": []
  }
 ],
 "metadata": {
  "kernelspec": {
   "display_name": "Python 3",
   "language": "python",
   "name": "python3"
  },
  "language_info": {
   "codemirror_mode": {
    "name": "ipython",
    "version": 3
   },
   "file_extension": ".py",
   "mimetype": "text/x-python",
   "name": "python",
   "nbconvert_exporter": "python",
   "pygments_lexer": "ipython3",
   "version": "3.6.3"
  }
 },
 "nbformat": 4,
 "nbformat_minor": 2
}
