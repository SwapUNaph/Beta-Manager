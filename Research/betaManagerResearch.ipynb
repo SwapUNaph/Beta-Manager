{
 "cells": [
  {
   "cell_type": "code",
   "execution_count": 41,
   "metadata": {},
   "outputs": [],
   "source": [
    "import numpy as np\n",
    "import pandas as pd\n",
    "from datetime import datetime, timedelta\n",
    "import pandas_datareader as pdr\n",
    "import json"
   ]
  },
  {
   "cell_type": "code",
   "execution_count": 42,
   "metadata": {},
   "outputs": [],
   "source": [
    "argv = [\"GOOG AAPL MSFT FB\", \"100\", \"100000\"]"
   ]
  },
  {
   "cell_type": "code",
   "execution_count": 45,
   "metadata": {},
   "outputs": [
    {
     "data": {
      "text/plain": [
       "'{\"AAPL\": 0.26639259558602624, \"FB\": 0.25252219645592194, \"GOOG\": 0.31005231824457746, \"MSFT\": 0.17103288971347433}'"
      ]
     },
     "execution_count": 45,
     "metadata": {},
     "output_type": "execute_result"
    }
   ],
   "source": [
    "'''\n",
    "Based on : https://stackoverflow.com/questions/23450534/how-to-call-a-python-function-from-node-js\n",
    "argv[0] : String of valid stock tickers in the portfolio\n",
    "argv[1] : Duration window (in days) for stock variance calculations\n",
    "argv[2] : Portfolio Capital (in cents)\n",
    "'''\n",
    "stocks = argv[0].split()\n",
    "window = int(argv[1])\n",
    "initial_capital = int(argv[2])\n",
    "\n",
    "# Get data\n",
    "end_date = datetime.today()\n",
    "start_date = end_date - timedelta(window+2)\n",
    "# stocks = ['MSFT','AAPL','GOOG','AMZN','XOM','HSBC','BRK-B','JPM','BAC','WFC']\n",
    "stock_data = pdr.get_data_yahoo(symbols=stocks, start=start_date, end=end_date)\n",
    "stock_data = stock_data.dropna()\n",
    "\n",
    "# Calculate returns\n",
    "for ticker in stock_data.columns.levels[1]:\n",
    "    stock_data['Return', ticker] = stock_data['Adj Close', ticker].pct_change(1)\n",
    "    \n",
    "stock_data = stock_data.dropna()\n",
    "\n",
    "tickers = []\n",
    "invVar = []\n",
    "\n",
    "# Calculate Inverse Variance\n",
    "for ticker in stock_data.columns.levels[1]:\n",
    "    tickers.append(ticker)\n",
    "    invVar.append(stock_data['Return', ticker].var())\n",
    "\n",
    "weights = invVar/sum(invVar)\n",
    "\n",
    "portfolio_weights = dict()\n",
    "\n",
    "for index, ticker in enumerate(tickers):\n",
    "    portfolio_weights[ticker] = weights[index]\n",
    "    \n",
    "json.dumps(portfolio_weights)"
   ]
  },
  {
   "cell_type": "code",
   "execution_count": null,
   "metadata": {},
   "outputs": [],
   "source": []
  }
 ],
 "metadata": {
  "kernelspec": {
   "display_name": "Python 3",
   "language": "python",
   "name": "python3"
  },
  "language_info": {
   "codemirror_mode": {
    "name": "ipython",
    "version": 3
   },
   "file_extension": ".py",
   "mimetype": "text/x-python",
   "name": "python",
   "nbconvert_exporter": "python",
   "pygments_lexer": "ipython3",
   "version": "3.6.3"
  }
 },
 "nbformat": 4,
 "nbformat_minor": 2
}
