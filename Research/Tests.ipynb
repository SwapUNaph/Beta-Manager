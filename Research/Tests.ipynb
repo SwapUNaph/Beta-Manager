{
 "cells": [
  {
   "cell_type": "code",
   "execution_count": 2,
   "metadata": {},
   "outputs": [],
   "source": [
    "import numpy as np\n",
    "import pandas as pd\n",
    "from datetime import datetime, timedelta\n",
    "import pandas_datareader as pdr\n",
    "from scipy.optimize import minimize\n",
    "import os\n",
    "import json\n",
    "\n",
    "# argv = [\"function_name\", \"MSFT AAPL GOOG AMZN XOM HSBC BRK-B JPM BAC WFC \", \"200\", \"100000\"]"
   ]
  },
  {
   "cell_type": "code",
   "execution_count": 8,
   "metadata": {},
   "outputs": [
    {
     "data": {
      "text/plain": [
       "0"
      ]
     },
     "execution_count": 8,
     "metadata": {},
     "output_type": "execute_result"
    }
   ],
   "source": [
    "# Inverse Variance Portfolio\n",
    "os.system('python inverse_variance.py \"MSFT AAPL GOOG AMZN XOM HSBC BRK-B JPM BAC WFC \" \"200\" \"1000000\"')\n"
   ]
  },
  {
   "cell_type": "code",
   "execution_count": 12,
   "metadata": {},
   "outputs": [
    {
     "data": {
      "text/plain": [
       "0"
      ]
     },
     "execution_count": 12,
     "metadata": {},
     "output_type": "execute_result"
    }
   ],
   "source": [
    "# Markovitz Portfolio\n",
    "os.system('python markovitz.py \"MSFT AAPL GOOG AMZN XOM HSBC BRK-B JPM BAC WFC \" \"200\" \"1000000\"')\n"
   ]
  },
  {
   "cell_type": "code",
   "execution_count": null,
   "metadata": {},
   "outputs": [],
   "source": []
  }
 ],
 "metadata": {
  "kernelspec": {
   "display_name": "Python 3",
   "language": "python",
   "name": "python3"
  },
  "language_info": {
   "codemirror_mode": {
    "name": "ipython",
    "version": 3
   },
   "file_extension": ".py",
   "mimetype": "text/x-python",
   "name": "python",
   "nbconvert_exporter": "python",
   "pygments_lexer": "ipython3",
   "version": "3.6.3"
  }
 },
 "nbformat": 4,
 "nbformat_minor": 2
}
