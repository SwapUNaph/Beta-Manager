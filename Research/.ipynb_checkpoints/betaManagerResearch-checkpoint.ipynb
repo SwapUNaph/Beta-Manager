{
 "cells": [
  {
   "cell_type": "code",
   "execution_count": 1,
   "metadata": {},
   "outputs": [],
   "source": [
    "import numpy as np\n",
    "import pandas as pd\n",
    "from datetime import datetime, timedelta\n",
    "import pandas_datareader as pdr\n",
    "from scipy.optimize import minimize\n",
    "import json"
   ]
  },
  {
   "cell_type": "code",
   "execution_count": 2,
   "metadata": {},
   "outputs": [],
   "source": [
    "argv = [\"function_name\", \"MSFT AAPL GOOG AMZN XOM HSBC BRK-B JPM BAC WFC \", \"200\", \"100000\"]"
   ]
  },
  {
   "cell_type": "code",
   "execution_count": 3,
   "metadata": {},
   "outputs": [
    {
     "name": "stdout",
     "output_type": "stream",
     "text": [
      "{\"AAPL\": 0.14555224008282974, \"AMZN\": 0.09771034995307251, \"BAC\": 0.12830530758767827, \"BRK-B\": 0.04538362656218139, \"GOOG\": 0.16229699716716003, \"HSBC\": 0.05586733694802122, \"JPM\": 0.09241090109745582, \"MSFT\": 0.0967305951623466, \"WFC\": 0.10257457541906366, \"XOM\": 0.07316807002019061}\n",
      "Wall time: 10.1 s\n"
     ]
    }
   ],
   "source": [
    "%%time\n",
    "'''\n",
    "Based on : https://stackoverflow.com/questions/23450534/how-to-call-a-python-function-from-node-js\n",
    "argv[1] : String of valid stock tickers in the portfolio\n",
    "argv[2] : Duration window (in days) for stock variance calculations\n",
    "argv[3] : Portfolio Capital (in cents)\n",
    "'''\n",
    "stocks = argv[1].split()\n",
    "window = int(argv[2])\n",
    "initial_capital = int(argv[3])\n",
    "\n",
    "# Get data\n",
    "end_date = datetime.today()\n",
    "start_date = end_date - timedelta(window+2)\n",
    "# stocks = ['MSFT','AAPL','GOOG','AMZN','XOM','HSBC','BRK-B','JPM','BAC','WFC']\n",
    "stock_data = pdr.get_data_yahoo(symbols=stocks, start=start_date, end=end_date)\n",
    "stock_data = stock_data.dropna()\n",
    "\n",
    "# Calculate returns\n",
    "for ticker in stock_data.columns.levels[1]:\n",
    "    stock_data['Return', ticker] = stock_data['Adj Close', ticker].pct_change(1)\n",
    "    \n",
    "stock_data = stock_data.dropna()\n",
    "\n",
    "tickers = []\n",
    "invVar = []\n",
    "\n",
    "# Calculate Inverse Variance\n",
    "for ticker in stock_data.columns.levels[1]:\n",
    "    tickers.append(ticker)\n",
    "    invVar.append(stock_data['Return', ticker].var())\n",
    "\n",
    "weights = invVar/sum(invVar)\n",
    "\n",
    "portfolio_weights = dict()\n",
    "\n",
    "for index, ticker in enumerate(tickers):\n",
    "    portfolio_weights[ticker] = weights[index]\n",
    "    \n",
    "print(json.dumps(portfolio_weights))"
   ]
  },
  {
   "cell_type": "code",
   "execution_count": 4,
   "metadata": {},
   "outputs": [
    {
     "name": "stdout",
     "output_type": "stream",
     "text": [
      "{\"AAPL\": 0.09608119518937858, \"AMZN\": 0.12024337873278691, \"BAC\": 0.08093521958372155, \"BRK-B\": 0.08652442358593625, \"GOOG\": 0.10521060368077756, \"HSBC\": 0.12427681352438555, \"JPM\": 0.08094426398108054, \"MSFT\": 0.08094419276008524, \"WFC\": 0.1354697376646824, \"XOM\": 0.08937017129716596}\n",
      "Wall time: 9.65 s\n"
     ]
    }
   ],
   "source": [
    "%%time\n",
    "'''\n",
    "Based on : https://stackoverflow.com/questions/23450534/how-to-call-a-python-function-from-node-js\n",
    "argv[1] : String of valid stock tickers in the portfolio\n",
    "argv[2] : Duration window (in days) for stock variance calculations\n",
    "argv[3] : Portfolio Capital (in cents)\n",
    "'''\n",
    "stocks = argv[1].split()\n",
    "window = int(argv[2])\n",
    "initial_capital = int(argv[3])\n",
    "\n",
    "# Get data\n",
    "end_date = datetime.today()\n",
    "start_date = end_date - timedelta(window+2)\n",
    "# stocks = ['MSFT','AAPL','GOOG','AMZN','XOM','HSBC','BRK-B','JPM','BAC','WFC']\n",
    "stock_data = pdr.get_data_yahoo(symbols=stocks, start=start_date, end=end_date)\n",
    "stock_data = stock_data.dropna()\n",
    "\n",
    "# Calculate returns\n",
    "for ticker in stock_data.columns.levels[1]:\n",
    "    stock_data['Return', ticker] = stock_data['Adj Close', ticker].pct_change(1)\n",
    "    \n",
    "stock_data = stock_data.dropna()\n",
    "# print(stock_data)\n",
    "cov = stock_data.Return.cov()\n",
    "# print(covariance)\n",
    "tickers = list(cov.columns.values)\n",
    "\n",
    "\n",
    "# Optimization\n",
    "def cost(w):\n",
    "    global cov\n",
    "    portfolio_variance = np.dot(np.dot(w.T, cov), w)\n",
    "    return portfolio_variance\n",
    " \n",
    "bnds = [(0.0001, 0.9999)]*len(cov)\n",
    "cons = ({'type': 'eq', 'fun': lambda w: 1.0 - sum(w)})\n",
    "w0 = np.random.randn(len(cov))/len(cov)\n",
    "\n",
    "result = minimize(cost, w0, method='SLSQP', bounds=bnds, constraints=cons, tol=1e-6)\n",
    "# print(result.message)\n",
    "\n",
    "portfolio_weights = dict()\n",
    "\n",
    "if result.success:\n",
    "    weights = result.x\n",
    "    for index, ticker in enumerate(tickers):\n",
    "        portfolio_weights[ticker] = weights[index]\n",
    "\n",
    "    \n",
    "print(json.dumps(portfolio_weights))"
   ]
  },
  {
   "cell_type": "code",
   "execution_count": null,
   "metadata": {},
   "outputs": [],
   "source": [
    "%%time\n",
    "'''\n",
    "Based on : https://stackoverflow.com/questions/23450534/how-to-call-a-python-function-from-node-js\n",
    "argv[1] : String of valid stock tickers in the portfolio\n",
    "argv[2] : Duration window (in days) for stock variance calculations\n",
    "argv[3] : Portfolio Capital (in cents)\n",
    "'''\n",
    "stocks = argv[1].split()\n",
    "window = int(argv[2])\n",
    "initial_capital = int(argv[3])\n",
    "\n",
    "# Get data\n",
    "end_date = datetime.today()\n",
    "start_date = end_date - timedelta(window+2)\n",
    "# stocks = ['MSFT','AAPL','GOOG','AMZN','XOM','HSBC','BRK-B','JPM','BAC','WFC']\n",
    "stock_data = pdr.get_data_yahoo(symbols=stocks, start=start_date, end=end_date)\n",
    "stock_data = stock_data.dropna()"
   ]
  },
  {
   "cell_type": "code",
   "execution_count": 22,
   "metadata": {},
   "outputs": [
    {
     "name": "stdout",
     "output_type": "stream",
     "text": [
      "Symbols\n",
      "AAPL     0.000275\n",
      "AMZN     0.000184\n",
      "BAC      0.000232\n",
      "BRK-B    0.000096\n",
      "GOOG     0.000306\n",
      "HSBC     0.000104\n",
      "JPM      0.000173\n",
      "MSFT     0.000183\n",
      "WFC      0.000186\n",
      "XOM      0.000137\n",
      "dtype: float64\n"
     ]
    }
   ],
   "source": [
    "# Calculate returns\n",
    "for ticker in stock_data.columns.levels[1]:\n",
    "    stock_data['Return', ticker] = stock_data['Adj Close', ticker].pct_change(1)\n",
    "    \n",
    "stock_data = stock_data.dropna()\n",
    "tickers = list(stock_data.columns.levels[1])\n",
    "\n",
    "cov = np.array(stock_data.Return.cov())\n",
    "exp_ret = np.array(stock_data.Return.mean())\n",
    "\n",
    "max_exp_ret = np.max(np.abs(exp_ret))\n",
    "max_var = np.max(cov)\n",
    "\n",
    "print(max_var)\n",
    "\n"
   ]
  },
  {
   "cell_type": "code",
   "execution_count": 19,
   "metadata": {},
   "outputs": [
    {
     "name": "stdout",
     "output_type": "stream",
     "text": [
      "Symbols\n",
      "AAPL     0.086533\n",
      "AMZN     0.099002\n",
      "BAC      0.089956\n",
      "BRK-B    0.129908\n",
      "GOOG     0.083906\n",
      "HSBC     0.127415\n",
      "JPM      0.098748\n",
      "MSFT     0.099387\n",
      "WFC      0.097203\n",
      "XOM      0.111727\n",
      "dtype: float64\n"
     ]
    },
    {
     "ename": "ValueError",
     "evalue": "Objective function must return a scalar",
     "output_type": "error",
     "traceback": [
      "\u001b[1;31m---------------------------------------------------------------------------\u001b[0m",
      "\u001b[1;31mTypeError\u001b[0m                                 Traceback (most recent call last)",
      "\u001b[1;32mc:\\users\\napha\\appdata\\local\\programs\\python\\python36\\lib\\site-packages\\scipy\\optimize\\slsqp.py\u001b[0m in \u001b[0;36m_minimize_slsqp\u001b[1;34m(func, x0, args, jac, bounds, constraints, maxiter, ftol, iprint, disp, eps, callback, **unknown_options)\u001b[0m\n\u001b[0;32m    380\u001b[0m             \u001b[1;32mtry\u001b[0m\u001b[1;33m:\u001b[0m\u001b[1;33m\u001b[0m\u001b[0m\n\u001b[1;32m--> 381\u001b[1;33m                 \u001b[0mfx\u001b[0m \u001b[1;33m=\u001b[0m \u001b[0mfloat\u001b[0m\u001b[1;33m(\u001b[0m\u001b[0mnp\u001b[0m\u001b[1;33m.\u001b[0m\u001b[0masarray\u001b[0m\u001b[1;33m(\u001b[0m\u001b[0mfx\u001b[0m\u001b[1;33m)\u001b[0m\u001b[1;33m)\u001b[0m\u001b[1;33m\u001b[0m\u001b[0m\n\u001b[0m\u001b[0;32m    382\u001b[0m             \u001b[1;32mexcept\u001b[0m \u001b[1;33m(\u001b[0m\u001b[0mTypeError\u001b[0m\u001b[1;33m,\u001b[0m \u001b[0mValueError\u001b[0m\u001b[1;33m)\u001b[0m\u001b[1;33m:\u001b[0m\u001b[1;33m\u001b[0m\u001b[0m\n",
      "\u001b[1;31mTypeError\u001b[0m: only size-1 arrays can be converted to Python scalars",
      "\nDuring handling of the above exception, another exception occurred:\n",
      "\u001b[1;31mValueError\u001b[0m                                Traceback (most recent call last)",
      "\u001b[1;32m<ipython-input-19-e081fb43d46d>\u001b[0m in \u001b[0;36m<module>\u001b[1;34m\u001b[0m\n\u001b[0;32m     11\u001b[0m \u001b[0mw0\u001b[0m \u001b[1;33m=\u001b[0m \u001b[0mnp\u001b[0m\u001b[1;33m.\u001b[0m\u001b[0mrandom\u001b[0m\u001b[1;33m.\u001b[0m\u001b[0mrandn\u001b[0m\u001b[1;33m(\u001b[0m\u001b[0mlen\u001b[0m\u001b[1;33m(\u001b[0m\u001b[0mcov\u001b[0m\u001b[1;33m)\u001b[0m\u001b[1;33m)\u001b[0m\u001b[1;33m/\u001b[0m\u001b[0mlen\u001b[0m\u001b[1;33m(\u001b[0m\u001b[0mcov\u001b[0m\u001b[1;33m)\u001b[0m\u001b[1;33m\u001b[0m\u001b[0m\n\u001b[0;32m     12\u001b[0m \u001b[1;33m\u001b[0m\u001b[0m\n\u001b[1;32m---> 13\u001b[1;33m \u001b[0mresult\u001b[0m \u001b[1;33m=\u001b[0m \u001b[0mminimize\u001b[0m\u001b[1;33m(\u001b[0m\u001b[0mcost\u001b[0m\u001b[1;33m,\u001b[0m \u001b[0mw0\u001b[0m\u001b[1;33m,\u001b[0m \u001b[0mmethod\u001b[0m\u001b[1;33m=\u001b[0m\u001b[1;34m'SLSQP'\u001b[0m\u001b[1;33m,\u001b[0m \u001b[0mbounds\u001b[0m\u001b[1;33m=\u001b[0m\u001b[0mbnds\u001b[0m\u001b[1;33m,\u001b[0m \u001b[0mconstraints\u001b[0m\u001b[1;33m=\u001b[0m\u001b[0mcons\u001b[0m\u001b[1;33m,\u001b[0m \u001b[0mtol\u001b[0m\u001b[1;33m=\u001b[0m\u001b[1;36m1e-6\u001b[0m\u001b[1;33m)\u001b[0m\u001b[1;33m\u001b[0m\u001b[0m\n\u001b[0m\u001b[0;32m     14\u001b[0m \u001b[1;31m# print(result.message)\u001b[0m\u001b[1;33m\u001b[0m\u001b[1;33m\u001b[0m\u001b[0m\n\u001b[0;32m     15\u001b[0m \u001b[1;33m\u001b[0m\u001b[0m\n",
      "\u001b[1;32mc:\\users\\napha\\appdata\\local\\programs\\python\\python36\\lib\\site-packages\\scipy\\optimize\\_minimize.py\u001b[0m in \u001b[0;36mminimize\u001b[1;34m(fun, x0, args, method, jac, hess, hessp, bounds, constraints, tol, callback, options)\u001b[0m\n\u001b[0;32m    609\u001b[0m     \u001b[1;32melif\u001b[0m \u001b[0mmeth\u001b[0m \u001b[1;33m==\u001b[0m \u001b[1;34m'slsqp'\u001b[0m\u001b[1;33m:\u001b[0m\u001b[1;33m\u001b[0m\u001b[0m\n\u001b[0;32m    610\u001b[0m         return _minimize_slsqp(fun, x0, args, jac, bounds,\n\u001b[1;32m--> 611\u001b[1;33m                                constraints, callback=callback, **options)\n\u001b[0m\u001b[0;32m    612\u001b[0m     \u001b[1;32melif\u001b[0m \u001b[0mmeth\u001b[0m \u001b[1;33m==\u001b[0m \u001b[1;34m'trust-constr'\u001b[0m\u001b[1;33m:\u001b[0m\u001b[1;33m\u001b[0m\u001b[0m\n\u001b[0;32m    613\u001b[0m         return _minimize_trustregion_constr(fun, x0, args, jac, hess, hessp,\n",
      "\u001b[1;32mc:\\users\\napha\\appdata\\local\\programs\\python\\python36\\lib\\site-packages\\scipy\\optimize\\slsqp.py\u001b[0m in \u001b[0;36m_minimize_slsqp\u001b[1;34m(func, x0, args, jac, bounds, constraints, maxiter, ftol, iprint, disp, eps, callback, **unknown_options)\u001b[0m\n\u001b[0;32m    381\u001b[0m                 \u001b[0mfx\u001b[0m \u001b[1;33m=\u001b[0m \u001b[0mfloat\u001b[0m\u001b[1;33m(\u001b[0m\u001b[0mnp\u001b[0m\u001b[1;33m.\u001b[0m\u001b[0masarray\u001b[0m\u001b[1;33m(\u001b[0m\u001b[0mfx\u001b[0m\u001b[1;33m)\u001b[0m\u001b[1;33m)\u001b[0m\u001b[1;33m\u001b[0m\u001b[0m\n\u001b[0;32m    382\u001b[0m             \u001b[1;32mexcept\u001b[0m \u001b[1;33m(\u001b[0m\u001b[0mTypeError\u001b[0m\u001b[1;33m,\u001b[0m \u001b[0mValueError\u001b[0m\u001b[1;33m)\u001b[0m\u001b[1;33m:\u001b[0m\u001b[1;33m\u001b[0m\u001b[0m\n\u001b[1;32m--> 383\u001b[1;33m                 \u001b[1;32mraise\u001b[0m \u001b[0mValueError\u001b[0m\u001b[1;33m(\u001b[0m\u001b[1;34m\"Objective function must return a scalar\"\u001b[0m\u001b[1;33m)\u001b[0m\u001b[1;33m\u001b[0m\u001b[0m\n\u001b[0m\u001b[0;32m    384\u001b[0m             \u001b[1;31m# Compute the constraints\u001b[0m\u001b[1;33m\u001b[0m\u001b[1;33m\u001b[0m\u001b[0m\n\u001b[0;32m    385\u001b[0m             \u001b[1;32mif\u001b[0m \u001b[0mcons\u001b[0m\u001b[1;33m[\u001b[0m\u001b[1;34m'eq'\u001b[0m\u001b[1;33m]\u001b[0m\u001b[1;33m:\u001b[0m\u001b[1;33m\u001b[0m\u001b[0m\n",
      "\u001b[1;31mValueError\u001b[0m: Objective function must return a scalar"
     ]
    }
   ],
   "source": [
    "# Optimization\n",
    "def cost(w):\n",
    "    global cov, exp_ret, max_exp_ret, max_var\n",
    "    portfolio_variance = np.dot(np.dot(w.T, cov), w)\n",
    "    portfolio_expt_ret = np.dot(w.T, exp_ret)\n",
    "    print(portfolio_variance / max_var + portfolio_expt_ret / max_exp_ret)\n",
    "    return portfolio_variance / max_var + portfolio_expt_ret / max_exp_ret\n",
    " \n",
    "bnds = [(0.0001, 0.9999)]*len(cov)\n",
    "cons = ({'type': 'eq', 'fun': lambda w: 1.0 - sum(w)})\n",
    "w0 = np.random.randn(len(cov))/len(cov)\n",
    "\n",
    "result = minimize(cost, w0, method='SLSQP', bounds=bnds, constraints=cons, tol=1e-6)\n",
    "# print(result.message)\n",
    "\n",
    "portfolio_weights = dict()\n",
    "\n",
    "if result.success:\n",
    "    weights = result.x\n",
    "    for index, ticker in enumerate(tickers):\n",
    "        portfolio_weights[ticker] = weights[index]\n",
    "\n",
    "    \n",
    "print(json.dumps(portfolio_weights))"
   ]
  },
  {
   "cell_type": "code",
   "execution_count": null,
   "metadata": {},
   "outputs": [],
   "source": []
  }
 ],
 "metadata": {
  "kernelspec": {
   "display_name": "Python 3",
   "language": "python",
   "name": "python3"
  },
  "language_info": {
   "codemirror_mode": {
    "name": "ipython",
    "version": 3
   },
   "file_extension": ".py",
   "mimetype": "text/x-python",
   "name": "python",
   "nbconvert_exporter": "python",
   "pygments_lexer": "ipython3",
   "version": "3.6.3"
  }
 },
 "nbformat": 4,
 "nbformat_minor": 2
}
